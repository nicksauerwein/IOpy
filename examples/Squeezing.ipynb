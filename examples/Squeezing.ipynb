{
 "cells": [
  {
   "cell_type": "code",
   "execution_count": 1,
   "metadata": {},
   "outputs": [],
   "source": [
    "import numpy as np\n",
    "%matplotlib notebook\n",
    "import matplotlib.pyplot as plt\n",
    "\n",
    "import sys\n",
    "\n",
    "sys.path.append('../scripts')"
   ]
  },
  {
   "cell_type": "code",
   "execution_count": 2,
   "metadata": {
    "scrolled": true
   },
   "outputs": [],
   "source": [
    "%load_ext autoreload\n",
    "%autoreload 2"
   ]
  },
  {
   "cell_type": "code",
   "execution_count": 3,
   "metadata": {},
   "outputs": [],
   "source": [
    "from elements import *\n",
    "\n",
    "import measurement as me"
   ]
  },
  {
   "cell_type": "markdown",
   "metadata": {},
   "source": [
    "### Optomechanically induced transparency (OMIT)\n",
    "    In this example we show the OMIT effect. "
   ]
  },
  {
   "cell_type": "markdown",
   "metadata": {},
   "source": [
    "### Defining the OM system"
   ]
  },
  {
   "cell_type": "code",
   "execution_count": 4,
   "metadata": {},
   "outputs": [
    {
     "name": "stdout",
     "output_type": "stream",
     "text": [
      "Cooperativity C:  1405.530153827928\n"
     ]
    }
   ],
   "source": [
    "omega_cav = 5e9*np.pi*2\n",
    "kappa_0 = 0.3e6*np.pi*2\n",
    "kappa_ex = 0.4e6*np.pi*2\n",
    "\n",
    "omega_m = 5e6*np.pi*2\n",
    "gamma_m = 100*np.pi*2\n",
    "\n",
    "g_0 = 1120*np.pi*2\n",
    "\n",
    "P_in = 8e-10\n",
    "Delta = -omega_m\n",
    "omega_cont = omega_cav + Delta\n",
    "T_cont = 1\n",
    "\n",
    "from DCnonlinearities import optomechanics\n",
    "\n",
    "omdir = optomechanics(P_in, kappa_0, kappa_ex, omega_cav, omega_cont, omega_m, g_0)\n",
    "\n",
    "g= omdir['g']\n",
    "omega_cav = omdir['omega_c']\n",
    "\n",
    "\n",
    "a = Mode('a', omega_cav)\n",
    "b = Mode('b', omega_m)\n",
    "\n",
    "a_cont = Input('ex', a, kappa_ex, kind = 'drive', omega_drive = omega_cont, bath_temp = T_cont)\n",
    "a_in0 = Input('0', a, kappa_0, kind = 'bath', bath_temp=10e-3)\n",
    "\n",
    "b_in0 = Input('0', b, gamma_m, kind = 'bath', bath_temp=10e-3)\n",
    "\n",
    "g_ab = Coupling(a, b, g * np.array([1,0,0,0]))\n",
    "\n",
    "sys_om = System([a, b], [a_in0, b_in0, a_cont], [g_ab])\n",
    "\n",
    "print ('Cooperativity C: ',4*g**2/a.kappa/gamma_m)"
   ]
  },
  {
   "cell_type": "code",
   "execution_count": null,
   "metadata": {},
   "outputs": [],
   "source": []
  }
 ],
 "metadata": {
  "kernelspec": {
   "display_name": "Python 3",
   "language": "python",
   "name": "python3"
  },
  "language_info": {
   "codemirror_mode": {
    "name": "ipython",
    "version": 3
   },
   "file_extension": ".py",
   "mimetype": "text/x-python",
   "name": "python",
   "nbconvert_exporter": "python",
   "pygments_lexer": "ipython3",
   "version": "3.6.5"
  }
 },
 "nbformat": 4,
 "nbformat_minor": 2
}
