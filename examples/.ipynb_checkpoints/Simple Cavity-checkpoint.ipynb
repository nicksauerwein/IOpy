{
 "cells": [
  {
   "cell_type": "code",
   "execution_count": 1,
   "metadata": {},
   "outputs": [],
   "source": [
    "import numpy as np\n",
    "import sys\n",
    "\n",
    "sys.path.append('../scripts')"
   ]
  },
  {
   "cell_type": "code",
   "execution_count": 2,
   "metadata": {},
   "outputs": [],
   "source": [
    "%load_ext autoreload\n",
    "%autoreload 2"
   ]
  },
  {
   "cell_type": "code",
   "execution_count": 3,
   "metadata": {},
   "outputs": [],
   "source": [
    "from elements import *\n",
    "\n",
    "import measurement as me"
   ]
  },
  {
   "cell_type": "code",
   "execution_count": 4,
   "metadata": {},
   "outputs": [],
   "source": [
    "import matplotlib.pyplot as plt\n",
    "%matplotlib notebook"
   ]
  },
  {
   "cell_type": "markdown",
   "metadata": {},
   "source": [
    "## Simple Cavity\n",
    "\n",
    "In the example below we simulate the emmition spectrum of a hot resonator. Here the temperature of the bath is higher than the temperature of the drive and therefore we can see an emmition shaped like a Lorenzian."
   ]
  },
  {
   "cell_type": "code",
   "execution_count": 38,
   "metadata": {
    "scrolled": false
   },
   "outputs": [
    {
     "name": "stdout",
     "output_type": "stream",
     "text": [
      "[[[ 0.99866815-0.0399556j   0.00000000+0.j         -0.00108745-0.03262361j\n",
      "    0.00000000+0.j        ]\n",
      "  [ 0.00000000+0.j          0.99866815-0.0399556j   0.00000000+0.j\n",
      "   -0.00108745-0.03262361j]\n",
      "  [-0.00108745-0.03262361j  0.00000000+0.j          0.99911210-0.02663707j\n",
      "    0.00000000+0.j        ]\n",
      "  [ 0.00000000+0.j         -0.00108745-0.03262361j  0.00000000+0.j\n",
      "    0.99911210-0.02663707j]]\n",
      "\n",
      " [[ 0.99866281-0.0400355j   0.00000000+0.j         -0.00109181-0.03268885j\n",
      "    0.00000000+0.j        ]\n",
      "  [ 0.00000000+0.j          0.99866281-0.0400355j   0.00000000+0.j\n",
      "   -0.00109181-0.03268885j]\n",
      "  [-0.00109181-0.03268885j  0.00000000+0.j          0.99910854-0.02669033j\n",
      "    0.00000000+0.j        ]\n",
      "  [ 0.00000000+0.j         -0.00109181-0.03268885j  0.00000000+0.j\n",
      "    0.99910854-0.02669033j]]\n",
      "\n",
      " [[ 0.99865744-0.04011571j  0.00000000+0.j         -0.00109620-0.03275434j\n",
      "    0.00000000+0.j        ]\n",
      "  [ 0.00000000+0.j          0.99865744-0.04011571j  0.00000000+0.j\n",
      "   -0.00109620-0.03275434j]\n",
      "  [-0.00109620-0.03275434j  0.00000000+0.j          0.99910496-0.02674381j\n",
      "    0.00000000+0.j        ]\n",
      "  [ 0.00000000+0.j         -0.00109620-0.03275434j  0.00000000+0.j\n",
      "    0.99910496-0.02674381j]]\n",
      "\n",
      " ..., \n",
      " [[ 0.99865744+0.04011571j  0.00000000+0.j         -0.00109620+0.03275434j\n",
      "    0.00000000+0.j        ]\n",
      "  [ 0.00000000+0.j          0.99865744+0.04011571j  0.00000000+0.j\n",
      "   -0.00109620+0.03275434j]\n",
      "  [-0.00109620+0.03275434j  0.00000000+0.j          0.99910496+0.02674381j\n",
      "    0.00000000+0.j        ]\n",
      "  [ 0.00000000+0.j         -0.00109620+0.03275434j  0.00000000+0.j\n",
      "    0.99910496+0.02674381j]]\n",
      "\n",
      " [[ 0.99866281+0.0400355j   0.00000000+0.j         -0.00109181+0.03268885j\n",
      "    0.00000000+0.j        ]\n",
      "  [ 0.00000000+0.j          0.99866281+0.0400355j   0.00000000+0.j\n",
      "   -0.00109181+0.03268885j]\n",
      "  [-0.00109181+0.03268885j  0.00000000+0.j          0.99910854+0.02669033j\n",
      "    0.00000000+0.j        ]\n",
      "  [ 0.00000000+0.j         -0.00109181+0.03268885j  0.00000000+0.j\n",
      "    0.99910854+0.02669033j]]\n",
      "\n",
      " [[ 0.99866815+0.0399556j   0.00000000+0.j         -0.00108745+0.03262361j\n",
      "    0.00000000+0.j        ]\n",
      "  [ 0.00000000+0.j          0.99866815+0.0399556j   0.00000000+0.j\n",
      "   -0.00108745+0.03262361j]\n",
      "  [-0.00108745+0.03262361j  0.00000000+0.j          0.99911210+0.02663707j\n",
      "    0.00000000+0.j        ]\n",
      "  [ 0.00000000+0.j         -0.00108745+0.03262361j  0.00000000+0.j\n",
      "    0.99911210+0.02663707j]]]\n"
     ]
    },
    {
     "ename": "IndexError",
     "evalue": "index 4 is out of bounds for axis 2 with size 4",
     "output_type": "error",
     "traceback": [
      "\u001b[1;31m---------------------------------------------------------------------------\u001b[0m",
      "\u001b[1;31mIndexError\u001b[0m                                Traceback (most recent call last)",
      "\u001b[1;32m<ipython-input-38-28651f6a154c>\u001b[0m in \u001b[0;36m<module>\u001b[1;34m()\u001b[0m\n\u001b[0;32m     22\u001b[0m \u001b[1;33m\u001b[0m\u001b[0m\n\u001b[0;32m     23\u001b[0m \u001b[0mt\u001b[0m \u001b[1;33m=\u001b[0m \u001b[0mtime\u001b[0m\u001b[1;33m.\u001b[0m\u001b[0mtime\u001b[0m\u001b[1;33m(\u001b[0m\u001b[1;33m)\u001b[0m\u001b[1;33m\u001b[0m\u001b[0m\n\u001b[1;32m---> 24\u001b[1;33m \u001b[0mspec\u001b[0m \u001b[1;33m=\u001b[0m \u001b[0mme\u001b[0m\u001b[1;33m.\u001b[0m\u001b[0mspectrum\u001b[0m\u001b[1;33m(\u001b[0m\u001b[0momegas\u001b[0m\u001b[1;33m,\u001b[0m \u001b[0mme\u001b[0m\u001b[1;33m.\u001b[0m\u001b[0mPowerMeasurement\u001b[0m\u001b[1;33m(\u001b[0m\u001b[0ma_outex\u001b[0m\u001b[1;33m)\u001b[0m\u001b[1;33m,\u001b[0m \u001b[0momega_rot\u001b[0m\u001b[1;33m=\u001b[0m\u001b[0momega_c\u001b[0m\u001b[1;33m)\u001b[0m\u001b[1;33m\u001b[0m\u001b[0m\n\u001b[0m\u001b[0;32m     25\u001b[0m \u001b[0mprint\u001b[0m \u001b[1;33m(\u001b[0m\u001b[0mtime\u001b[0m\u001b[1;33m.\u001b[0m\u001b[0mtime\u001b[0m\u001b[1;33m(\u001b[0m\u001b[1;33m)\u001b[0m \u001b[1;33m-\u001b[0m \u001b[0mt\u001b[0m\u001b[1;33m)\u001b[0m\u001b[1;33m\u001b[0m\u001b[0m\n\u001b[0;32m     26\u001b[0m \u001b[1;33m\u001b[0m\u001b[0m\n",
      "\u001b[1;32m~\\OneDrive\\Projekte und Jobs\\EPFL_Kippenberg\\Codes\\iopy\\scripts\\measurement.py\u001b[0m in \u001b[0;36mspectrum\u001b[1;34m(omega, measurement, omega_rot, components)\u001b[0m\n\u001b[0;32m     78\u001b[0m             \u001b[1;31m#spec[i, j] = Q[i,j] * np.array([S1[i,k] * S2[j,k] * system.inputs[int(k/2)].spectrum(omega) for k in range(2*ni)])\u001b[0m\u001b[1;33m\u001b[0m\u001b[1;33m\u001b[0m\u001b[0m\n\u001b[0;32m     79\u001b[0m \u001b[1;33m\u001b[0m\u001b[0m\n\u001b[1;32m---> 80\u001b[1;33m             \u001b[0mres\u001b[0m \u001b[1;33m+=\u001b[0m \u001b[0mQ\u001b[0m\u001b[1;33m[\u001b[0m\u001b[0mi\u001b[0m\u001b[1;33m,\u001b[0m\u001b[0mj\u001b[0m\u001b[1;33m]\u001b[0m \u001b[1;33m*\u001b[0m \u001b[0mnp\u001b[0m\u001b[1;33m.\u001b[0m\u001b[0marray\u001b[0m\u001b[1;33m(\u001b[0m\u001b[1;33m[\u001b[0m\u001b[0mS1\u001b[0m\u001b[1;33m[\u001b[0m\u001b[1;33m:\u001b[0m\u001b[1;33m,\u001b[0m\u001b[0mi\u001b[0m\u001b[1;33m,\u001b[0m\u001b[0mk\u001b[0m\u001b[1;33m]\u001b[0m \u001b[1;33m*\u001b[0m \u001b[0mS2\u001b[0m\u001b[1;33m[\u001b[0m\u001b[1;33m:\u001b[0m\u001b[1;33m,\u001b[0m\u001b[0mj\u001b[0m\u001b[1;33m,\u001b[0m\u001b[0mk\u001b[0m\u001b[1;33m]\u001b[0m \u001b[1;33m*\u001b[0m \u001b[0msystem\u001b[0m\u001b[1;33m.\u001b[0m\u001b[0minputs\u001b[0m\u001b[1;33m[\u001b[0m\u001b[0mint\u001b[0m\u001b[1;33m(\u001b[0m\u001b[0mk\u001b[0m\u001b[1;33m/\u001b[0m\u001b[1;36m2\u001b[0m\u001b[1;33m)\u001b[0m\u001b[1;33m]\u001b[0m\u001b[1;33m.\u001b[0m\u001b[0mspectrum\u001b[0m\u001b[1;33m(\u001b[0m\u001b[0momega\u001b[0m\u001b[1;33m)\u001b[0m \u001b[1;32mfor\u001b[0m \u001b[0mk\u001b[0m \u001b[1;32min\u001b[0m \u001b[0mrange\u001b[0m\u001b[1;33m(\u001b[0m\u001b[1;36m2\u001b[0m\u001b[1;33m*\u001b[0m\u001b[0mni\u001b[0m\u001b[1;33m)\u001b[0m\u001b[1;33m]\u001b[0m\u001b[1;33m)\u001b[0m\u001b[1;33m\u001b[0m\u001b[0m\n\u001b[0m\u001b[0;32m     81\u001b[0m \u001b[1;33m\u001b[0m\u001b[0m\n\u001b[0;32m     82\u001b[0m             \u001b[1;31m#spec[i, j] += Q[i,j] * np.array([S1[i,k] * S2[j,k] * (system.inputs[int(k/2)].spectrum(omega) - 0.25) for k in range(2*ni)])\u001b[0m\u001b[1;33m\u001b[0m\u001b[1;33m\u001b[0m\u001b[0m\n",
      "\u001b[1;32m~\\OneDrive\\Projekte und Jobs\\EPFL_Kippenberg\\Codes\\iopy\\scripts\\measurement.py\u001b[0m in \u001b[0;36m<listcomp>\u001b[1;34m(.0)\u001b[0m\n\u001b[0;32m     78\u001b[0m             \u001b[1;31m#spec[i, j] = Q[i,j] * np.array([S1[i,k] * S2[j,k] * system.inputs[int(k/2)].spectrum(omega) for k in range(2*ni)])\u001b[0m\u001b[1;33m\u001b[0m\u001b[1;33m\u001b[0m\u001b[0m\n\u001b[0;32m     79\u001b[0m \u001b[1;33m\u001b[0m\u001b[0m\n\u001b[1;32m---> 80\u001b[1;33m             \u001b[0mres\u001b[0m \u001b[1;33m+=\u001b[0m \u001b[0mQ\u001b[0m\u001b[1;33m[\u001b[0m\u001b[0mi\u001b[0m\u001b[1;33m,\u001b[0m\u001b[0mj\u001b[0m\u001b[1;33m]\u001b[0m \u001b[1;33m*\u001b[0m \u001b[0mnp\u001b[0m\u001b[1;33m.\u001b[0m\u001b[0marray\u001b[0m\u001b[1;33m(\u001b[0m\u001b[1;33m[\u001b[0m\u001b[0mS1\u001b[0m\u001b[1;33m[\u001b[0m\u001b[1;33m:\u001b[0m\u001b[1;33m,\u001b[0m\u001b[0mi\u001b[0m\u001b[1;33m,\u001b[0m\u001b[0mk\u001b[0m\u001b[1;33m]\u001b[0m \u001b[1;33m*\u001b[0m \u001b[0mS2\u001b[0m\u001b[1;33m[\u001b[0m\u001b[1;33m:\u001b[0m\u001b[1;33m,\u001b[0m\u001b[0mj\u001b[0m\u001b[1;33m,\u001b[0m\u001b[0mk\u001b[0m\u001b[1;33m]\u001b[0m \u001b[1;33m*\u001b[0m \u001b[0msystem\u001b[0m\u001b[1;33m.\u001b[0m\u001b[0minputs\u001b[0m\u001b[1;33m[\u001b[0m\u001b[0mint\u001b[0m\u001b[1;33m(\u001b[0m\u001b[0mk\u001b[0m\u001b[1;33m/\u001b[0m\u001b[1;36m2\u001b[0m\u001b[1;33m)\u001b[0m\u001b[1;33m]\u001b[0m\u001b[1;33m.\u001b[0m\u001b[0mspectrum\u001b[0m\u001b[1;33m(\u001b[0m\u001b[0momega\u001b[0m\u001b[1;33m)\u001b[0m \u001b[1;32mfor\u001b[0m \u001b[0mk\u001b[0m \u001b[1;32min\u001b[0m \u001b[0mrange\u001b[0m\u001b[1;33m(\u001b[0m\u001b[1;36m2\u001b[0m\u001b[1;33m*\u001b[0m\u001b[0mni\u001b[0m\u001b[1;33m)\u001b[0m\u001b[1;33m]\u001b[0m\u001b[1;33m)\u001b[0m\u001b[1;33m\u001b[0m\u001b[0m\n\u001b[0m\u001b[0;32m     81\u001b[0m \u001b[1;33m\u001b[0m\u001b[0m\n\u001b[0;32m     82\u001b[0m             \u001b[1;31m#spec[i, j] += Q[i,j] * np.array([S1[i,k] * S2[j,k] * (system.inputs[int(k/2)].spectrum(omega) - 0.25) for k in range(2*ni)])\u001b[0m\u001b[1;33m\u001b[0m\u001b[1;33m\u001b[0m\u001b[0m\n",
      "\u001b[1;31mIndexError\u001b[0m: index 4 is out of bounds for axis 2 with size 4"
     ]
    }
   ],
   "source": [
    "omega_c = 5e9*np.pi*2\n",
    "\n",
    "kappa_ex = 0.2e6*np.pi*2\n",
    "kappa_0 = 0.3e6*np.pi*2\n",
    "\n",
    "kappa = kappa_ex + kappa_0\n",
    "\n",
    "a = Mode('a', omega_c)\n",
    "\n",
    "a_inex = Input('ex', a, kappa_ex, kind = 'drive', omega_drive = omega_c, bath_temp=10e-3)\n",
    "a_in0 = Input('0', a, kappa_0, kind = 'bath', bath_temp=30e-3)\n",
    "\n",
    "sys_cav = System([a], [a_in0, a_inex], [])\n",
    "\n",
    "#print (sys_cav.M)\n",
    "\n",
    "a_outex = Output(sys_cav, a_inex)\n",
    "\n",
    "omegas = np.linspace(omega_c - 15*kappa, omega_c + 15*kappa, 1001)\n",
    "\n",
    "import time\n",
    "\n",
    "t = time.time()\n",
    "spec = me.spectrum(omegas, me.PowerMeasurement(a_outex), omega_rot=omega_c)\n",
    "print (time.time() - t)\n",
    "\n",
    "#print (spec)\n",
    "plt.figure()\n",
    "\n",
    "\n",
    "plt.plot(omegas, spec);"
   ]
  },
  {
   "cell_type": "code",
   "execution_count": null,
   "metadata": {},
   "outputs": [],
   "source": []
  }
 ],
 "metadata": {
  "kernelspec": {
   "display_name": "Python 3",
   "language": "python",
   "name": "python3"
  },
  "language_info": {
   "codemirror_mode": {
    "name": "ipython",
    "version": 3
   },
   "file_extension": ".py",
   "mimetype": "text/x-python",
   "name": "python",
   "nbconvert_exporter": "python",
   "pygments_lexer": "ipython3",
   "version": "3.6.4"
  }
 },
 "nbformat": 4,
 "nbformat_minor": 2
}
