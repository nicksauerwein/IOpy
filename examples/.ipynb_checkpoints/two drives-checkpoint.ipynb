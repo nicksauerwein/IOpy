{
 "cells": [
  {
   "cell_type": "code",
   "execution_count": 1,
   "metadata": {},
   "outputs": [],
   "source": [
    "import numpy as np\n",
    "%matplotlib notebook\n",
    "import matplotlib.pyplot as plt\n",
    "from scipy.constants import epsilon_0, hbar, k\n",
    "\n",
    "\n",
    "import sys\n",
    "\n",
    "sys.path.append('../scripts')"
   ]
  },
  {
   "cell_type": "code",
   "execution_count": 2,
   "metadata": {
    "scrolled": false
   },
   "outputs": [],
   "source": [
    "%load_ext autoreload\n",
    "%autoreload 2"
   ]
  },
  {
   "cell_type": "code",
   "execution_count": 3,
   "metadata": {},
   "outputs": [],
   "source": [
    "from elements import *\n",
    "\n",
    "import measurement as me"
   ]
  },
  {
   "cell_type": "markdown",
   "metadata": {},
   "source": [
    "### One optical mode, coupled to 2 mechanical modes, driven by 2 drives"
   ]
  },
  {
   "cell_type": "code",
   "execution_count": 267,
   "metadata": {},
   "outputs": [],
   "source": [
    "omega_cav = 5e9*np.pi*2\n",
    "kappa_0 = 0.3e6*np.pi*2\n",
    "\n",
    "omega_m1 = 5e6*np.pi*2\n",
    "gamma_m1 = 100*np.pi*2\n",
    "g_01 = 200*np.pi*2\n",
    "\n",
    "omega_m2 = 7e6*np.pi*2\n",
    "gamma_m2 = 100*np.pi*2\n",
    "g_02 = 200*np.pi*2*0\n",
    "\n",
    "P_in1 = 8e-8\n",
    "Delta1 = -omega_m1\n",
    "omega_cont1 = omega_cav + Delta1\n",
    "T_cont1 = 1\n",
    "kappa_ex1 = 0.4e6*np.pi*2\n",
    "\n",
    "P_in2 = 8e-10\n",
    "Delta2 = -omega_m2\n",
    "omega_cont2 = omega_cav + Delta2\n",
    "T_cont2 = 10e-3\n",
    "kappa_ex2 = 0.4e6*np.pi*2"
   ]
  },
  {
   "cell_type": "code",
   "execution_count": 274,
   "metadata": {},
   "outputs": [
    {
     "name": "stdout",
     "output_type": "stream",
     "text": [
      "2.0353514552667313e-16 1.0389021732756691e-18\n"
     ]
    }
   ],
   "source": [
    "def eqs(p):\n",
    "    N1, N2 = p\n",
    "    A1 = (kappa_0**2/4 + (omega_cav - omega_cont1 - (N1+0*N2)*(g_01/omega_m1 + g_02/omega_m2))**2)*N1 - kappa_ex1 * P_in1\n",
    "    A2 = (kappa_0**2/4 + (omega_cav - omega_cont2 - (N1+0*N2)*(g_01/omega_m1 + g_02/omega_m2))**2)*N2 - kappa_ex2 * P_in2\n",
    "    return (A1,A2)\n",
    "\n",
    "from scipy.optimize import fsolve\n",
    "\n",
    "N1, N2 = fsolve(eqs, (100,0))\n",
    "print(N1, N2)"
   ]
  },
  {
   "cell_type": "code",
   "execution_count": 252,
   "metadata": {},
   "outputs": [
    {
     "name": "stdout",
     "output_type": "stream",
     "text": [
      "Cooperativity C1:  980232.5025107648 C2:  113978.65148437044\n"
     ]
    }
   ],
   "source": [
    "from DCnonlinearities import optomechanics\n",
    "\n",
    "omdir1 = optomechanics(P_in1, kappa_0, kappa_ex1, omega_cav, omega_cont1, omega_m1, g_01)\n",
    "g1= omdir1['g']\n",
    "omega_cav = omdir1['omega_c']\n",
    "\n",
    "omdir2 = optomechanics(P_in2, kappa_0, kappa_ex2, omega_cav, omega_cont2, omega_m2, g_02)\n",
    "g2= omdir2['g']\n",
    "omega_cav = omdir2['omega_c']\n",
    "\n",
    "a = Mode('a', omega_cav)\n",
    "b1 = Mode('b1', omega_m1)\n",
    "b2 = Mode('b2', omega_m2)\n",
    "\n",
    "a_cont1 = Input('ex', a, kappa_ex1, kind = 'drive', omega_drive = omega_cont1, bath_temp = T_cont1)\n",
    "a_in0 = Input('0', a, kappa_0, kind = 'bath', bath_temp=10e-3)\n",
    "b1_in0 = Input('0', b1, gamma_m1, kind = 'bath', bath_temp=10e-3)\n",
    "b2_in0 = Input('0', b2, gamma_m2, kind = 'bath', bath_temp=10e-3)\n",
    "\n",
    "\n",
    "g_ab1 = Coupling(a, b1, g1 * np.array([1,0,0,0]))\n",
    "g_ab2 = Coupling(a, b2, g2 * np.array([1,0,0,0]))\n",
    "\n",
    "\n",
    "sys_om = System([a, b1, b2], [a_cont1, a_in0, b1_in0, b2_in0], [g_ab1,g_ab2])\n",
    "\n",
    "print ('Cooperativity C1: ',4*g1**2/a.kappa/gamma_m1,'C2: ',4*g2**2/a.kappa/gamma_m2)\n"
   ]
  },
  {
   "cell_type": "code",
   "execution_count": 257,
   "metadata": {},
   "outputs": [],
   "source": [
    "b1_out = Output(sys_om, b1_in0)\n",
    "omegas = np.linspace(omega_cav - 2.5* omega_m1, omega_cav +  omega_m2, 10000)\n",
    "#omegas_new, A = me.linear_response(omegas, sys_om, b1_out, a_cont1, plot = True)"
   ]
  },
  {
   "cell_type": "code",
   "execution_count": 258,
   "metadata": {},
   "outputs": [],
   "source": [
    "b2_out = Output(sys_om, b2_in0)\n",
    "omegas = np.linspace(omega_cav - 2.5* omega_m1, omega_cav +  omega_m2, 10000)\n",
    "#omegas_new, A = me.linear_response(omegas, sys_om, b2_out, a_cont1, plot = True)"
   ]
  },
  {
   "cell_type": "code",
   "execution_count": null,
   "metadata": {},
   "outputs": [],
   "source": [
    "def eqs(a, b = [], omega_c, kappa_0, omega_drives = [], g_0s = [], kappa_exts = [], P_ins = [], omega_ms = [], gamma_ms = []):\n",
    "    myi = np.array([[0,-1],[1,0]])\n",
    "    OmegaShift = 0 \n",
    "    A = np.zeros(length(omega_drives))\n",
    "    B = np.zeros(length(omega_ms))\n",
    "    for k in enumerate(g_0s):\n",
    "        OmegaShift += 2 * g_0s[k] * b[2*k]\n",
    "    for j in enumerate(omega_drives):\n",
    "        a.dot(a)\n",
    "    A = -omega_drive * myi.dot(a) + (omega_drive * myi + np.eye(2)*kappa_0/2).dot(a) + OmegaShift * myi.dot(a)\n",
    "    B = (omega_ms * myi + np.eye(2)*gamma_ms/2).dot(a)\n",
    "    "
   ]
  }
 ],
 "metadata": {
  "kernelspec": {
   "display_name": "Python 3",
   "language": "python",
   "name": "python3"
  },
  "language_info": {
   "codemirror_mode": {
    "name": "ipython",
    "version": 3
   },
   "file_extension": ".py",
   "mimetype": "text/x-python",
   "name": "python",
   "nbconvert_exporter": "python",
   "pygments_lexer": "ipython3",
   "version": "3.6.5"
  }
 },
 "nbformat": 4,
 "nbformat_minor": 2
}
