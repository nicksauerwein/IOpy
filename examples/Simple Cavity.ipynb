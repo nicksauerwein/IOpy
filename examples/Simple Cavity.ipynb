{
 "cells": [
  {
   "cell_type": "code",
   "execution_count": 1,
   "metadata": {},
   "outputs": [],
   "source": [
    "import numpy as np\n",
    "import sys\n",
    "\n",
    "sys.path.append('../scripts')"
   ]
  },
  {
   "cell_type": "code",
   "execution_count": 2,
   "metadata": {},
   "outputs": [],
   "source": [
    "%load_ext autoreload\n",
    "%autoreload 2"
   ]
  },
  {
   "cell_type": "code",
   "execution_count": 3,
   "metadata": {},
   "outputs": [],
   "source": [
    "from elements import *\n",
    "\n",
    "import measurement as me"
   ]
  },
  {
   "cell_type": "code",
   "execution_count": 4,
   "metadata": {},
   "outputs": [],
   "source": [
    "import matplotlib.pyplot as plt\n",
    "%matplotlib notebook"
   ]
  },
  {
   "cell_type": "markdown",
   "metadata": {},
   "source": [
    "## Simple Cavity\n",
    "\n",
    "In the example below we simulate the emmition spectrum of a hot resonator. Here the temperature of the bath is higher than the temperature of the drive and therefore we can see an emmition shaped like a Lorenzian."
   ]
  },
  {
   "cell_type": "code",
   "execution_count": 31,
   "metadata": {
    "scrolled": false
   },
   "outputs": [
    {
     "data": {
      "image/png": "[encoded data removed]",
      "text/plain": [
       "<matplotlib.figure.Figure at 0x1db18db9da0>"
      ]
     },
     "metadata": {},
     "output_type": "display_data"
    }
   ],
   "source": [
    "omega_c = 5e9*np.pi*2\n",
    "\n",
    "kappa_ex = 0.2e6*np.pi*2\n",
    "kappa_0 = 0.3e6*np.pi*2\n",
    "\n",
    "kappa = kappa_ex + kappa_0\n",
    "\n",
    "a = Mode('a', omega_c)\n",
    "\n",
    "a_inex = Input('ex', a, kappa_ex, kind = 'drive', omega_drive = omega_c, bath_temp=10e-3)\n",
    "a_in0 = Input('0', a, kappa_0, kind = 'bath', bath_temp=30e-3)\n",
    "\n",
    "sys_cav = System([a], [a_in0, a_inex], [])\n",
    "\n",
    "#print (sys_cav.M)\n",
    "\n",
    "a_outex = Output(sys_cav, a_inex)\n",
    "\n",
    "omegas = np.linspace(omega_c - 15*kappa, omega_c + 15*kappa, 1000)\n",
    "\n",
    "\n",
    "\n",
    "spec = [me.spectrum(omega, me.PowerMeasurement(a_outex), omega_rot=omega_c) for omega in omegas]\n",
    "#print (spec)\n",
    "plt.figure()\n",
    "\n",
    "\n",
    "plt.plot(omegas, spec);"
   ]
  },
  {
   "cell_type": "code",
   "execution_count": null,
   "metadata": {},
   "outputs": [],
   "source": []
  }
 ],
 "metadata": {
  "kernelspec": {
   "display_name": "Python 3",
   "language": "python",
   "name": "python3"
  },
  "language_info": {
   "codemirror_mode": {
    "name": "ipython",
    "version": 3
   },
   "file_extension": ".py",
   "mimetype": "text/x-python",
   "name": "python",
   "nbconvert_exporter": "python",
   "pygments_lexer": "ipython3",
   "version": "3.6.4"
  }
 },
 "nbformat": 4,
 "nbformat_minor": 2
}
